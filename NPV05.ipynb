{
 "cells": [
  {
   "cell_type": "markdown",
   "metadata": {},
   "source": [
    "# TAKE HOME LAB EXERCISE - 01"
   ]
  },
  {
   "cell_type": "markdown",
   "metadata": {},
   "source": [
    "-----------"
   ]
  },
  {
   "cell_type": "markdown",
   "metadata": {},
   "source": [
    "**(1).Create a 1D array with 10 values in it and then convert the 1D array to 2D array ?**"
   ]
  },
  {
   "cell_type": "code",
   "execution_count": 1,
   "metadata": {},
   "outputs": [
    {
     "data": {
      "text/plain": [
       "array([[0, 1, 2, 3, 4],\n",
       "       [5, 6, 7, 8, 9]])"
      ]
     },
     "execution_count": 1,
     "metadata": {},
     "output_type": "execute_result"
    }
   ],
   "source": [
    "import numpy as np\n",
    "np.array(range(0,10)).reshape(2,5)"
   ]
  },
  {
   "cell_type": "markdown",
   "metadata": {},
   "source": [
    "-------------------------------------------------------------"
   ]
  },
  {
   "cell_type": "markdown",
   "metadata": {},
   "source": [
    "**(2).Print or show only 3 decimal places of the numpy array `random_arr`**"
   ]
  },
  {
   "cell_type": "code",
   "execution_count": 2,
   "metadata": {},
   "outputs": [
    {
     "data": {
      "text/plain": [
       "array([0.615, 0.635, 0.313, 0.879, 0.443, 0.155, 0.439, 0.655, 0.417,\n",
       "       0.488])"
      ]
     },
     "execution_count": 2,
     "metadata": {},
     "output_type": "execute_result"
    }
   ],
   "source": [
    "random_arr=np.random.random([10])\n",
    "np.set_printoptions(precision=3)\n",
    "random_arr"
   ]
  },
  {
   "cell_type": "markdown",
   "metadata": {},
   "source": [
    "----------------------------------"
   ]
  },
  {
   "cell_type": "markdown",
   "metadata": {},
   "source": [
    "**(3).The number of items printed to be limit in python numpy array a to a maximum of 6 elements.**\n",
    "\n",
    "   \n",
    "     Intake : x = np.arange(15)\n",
    "               array([ 0,  1,  2,  3,  4,  5,  6,  7,  8,  9, 10, 11, 12, 13, 14])\n",
    "               \n",
    "     Result : ([ 0,  1,  2, ..., 12, 13, 14])"
   ]
  },
  {
   "cell_type": "code",
   "execution_count": 11,
   "metadata": {},
   "outputs": [
    {
     "data": {
      "text/plain": [
       "array([ 0,  1,  2, ..., 12, 13, 14])"
      ]
     },
     "execution_count": 11,
     "metadata": {},
     "output_type": "execute_result"
    }
   ],
   "source": [
    "x=np.arange(15)\n",
    "np.set_printoptions(threshold=6)\n",
    "x"
   ]
  },
  {
   "cell_type": "markdown",
   "metadata": {},
   "source": [
    "---------------------"
   ]
  },
  {
   "cell_type": "markdown",
   "metadata": {},
   "source": [
    "**(4). Take two arrays  `x` and `y` and Stack the `x` and `y` arrays Horizontal.**\n",
    "\n",
    "\n",
    "    Intake:\n",
    "                x = np.arange(10).reshape(2,-1)\n",
    "\n",
    "                y = np.repeat(1, 10).reshape(2,-1)\n",
    "\n",
    " \n",
    "    \n",
    "    Result:       ([[0, 1, 2, 3, 4, 1, 1, 1, 1, 1],\n",
    "                   [5, 6, 7, 8, 9, 1, 1, 1, 1, 1]])"
   ]
  },
  {
   "cell_type": "code",
   "execution_count": 3,
   "metadata": {},
   "outputs": [
    {
     "data": {
      "text/plain": [
       "array([[0, 1, 2, 3, 4, 1, 1, 1, 1, 1],\n",
       "       [5, 6, 7, 8, 9, 1, 1, 1, 1, 1]])"
      ]
     },
     "execution_count": 3,
     "metadata": {},
     "output_type": "execute_result"
    }
   ],
   "source": [
    "x = np.arange(10).reshape(2,-1)\n",
    "y = np.repeat(1, 10).reshape(2,-1)\n",
    "Result=np.hstack([x,y])\n",
    "Result"
   ]
  },
  {
   "cell_type": "markdown",
   "metadata": {},
   "source": [
    "----------------------"
   ]
  },
  {
   "cell_type": "markdown",
   "metadata": {},
   "source": [
    "**(5). Consider the given array's and print the values which are common in both the arrays.**\n",
    "    \n",
    "    \n",
    "    Intake: \n",
    "   \n",
    "        x = np.array([1,2,3,2,3,4,3,4,5,6])\n",
    "        y = np.array([7,2,10,2,7,4,9,4,9,8])\n",
    " \n",
    "    Results:\n",
    "        \n",
    "         ([2, 4])\n",
    "            \n",
    "    "
   ]
  },
  {
   "cell_type": "code",
   "execution_count": 4,
   "metadata": {},
   "outputs": [
    {
     "data": {
      "text/plain": [
       "array([2, 4])"
      ]
     },
     "execution_count": 4,
     "metadata": {},
     "output_type": "execute_result"
    }
   ],
   "source": [
    "x = np.array([1,2,3,2,3,4,3,4,5,6])\n",
    "y = np.array([7,2,10,2,7,4,9,4,9,8])\n",
    "np.intersect1d(x,y)"
   ]
  },
  {
   "cell_type": "markdown",
   "metadata": {},
   "source": [
    "---------------------"
   ]
  },
  {
   "cell_type": "markdown",
   "metadata": {},
   "source": [
    "**(6). There are two array x and y ,drop the items in `X` which already exist in `Y`.**\n",
    "\n",
    "   \n",
    "    INTAKE:\n",
    "     x = np.array([1,2,3,4,5])\n",
    "     y = np.array([5,6,7,8,9])\n",
    "    \n",
    "    \n",
    "    RESULT:\n",
    "     ([1,2,3,4])\n",
    "        \n",
    "    "
   ]
  },
  {
   "cell_type": "code",
   "execution_count": 5,
   "metadata": {},
   "outputs": [
    {
     "data": {
      "text/plain": [
       "array([1, 2, 3, 4])"
      ]
     },
     "execution_count": 5,
     "metadata": {},
     "output_type": "execute_result"
    }
   ],
   "source": [
    "array1 = np.array([1,2,3,4,5])\n",
    "array2 = np.array([5,6,7,8,9])\n",
    "np.setdiff1d(array1, array2)"
   ]
  },
  {
   "cell_type": "markdown",
   "metadata": {},
   "source": [
    "--------------------------"
   ]
  },
  {
   "cell_type": "markdown",
   "metadata": {},
   "source": [
    "**(7). Reverse the rows of a 2D array.**\n",
    "\n",
    "\n",
    "    Intake : X = np.arange(9).reshape(3,3)\n",
    "    \n",
    "    Result :      ([[6, 7, 8],\n",
    "                    [3, 4, 5],\n",
    "                    [0, 1, 2]])"
   ]
  },
  {
   "cell_type": "code",
   "execution_count": 6,
   "metadata": {},
   "outputs": [
    {
     "data": {
      "text/plain": [
       "array([[6, 7, 8],\n",
       "       [3, 4, 5],\n",
       "       [0, 1, 2]])"
      ]
     },
     "execution_count": 6,
     "metadata": {},
     "output_type": "execute_result"
    }
   ],
   "source": [
    "X = np.arange(9).reshape(3,3)\n",
    "np.flip(X,axis=0)"
   ]
  },
  {
   "cell_type": "markdown",
   "metadata": {},
   "source": [
    "----------------------"
   ]
  },
  {
   "cell_type": "markdown",
   "metadata": {},
   "source": [
    "**(8). Reverse the columns of a 2D array.**\n",
    "\n",
    "    Intake : X = np.arange(9).reshape(3,3)\n",
    "    \n",
    "    Result :     ([[2, 1, 0],\n",
    "                   [5, 4, 3],\n",
    "                   [8, 7, 6]])\n"
   ]
  },
  {
   "cell_type": "code",
   "execution_count": 7,
   "metadata": {},
   "outputs": [
    {
     "data": {
      "text/plain": [
       "array([[2, 1, 0],\n",
       "       [5, 4, 3],\n",
       "       [8, 7, 6]])"
      ]
     },
     "execution_count": 7,
     "metadata": {},
     "output_type": "execute_result"
    }
   ],
   "source": [
    "X = np.arange(9).reshape(3,3)\n",
    "np.flip(X,axis=1)"
   ]
  },
  {
   "cell_type": "markdown",
   "metadata": {},
   "source": [
    "---------------------"
   ]
  },
  {
   "cell_type": "markdown",
   "metadata": {},
   "source": [
    "**(9). Print the ranks for the given numeric array `x`.**\n",
    " \n",
    "   \n",
    "    Intake:\n",
    "    np.random.seed(10)\n",
    "    x = np.random.randint(20, size=10)\n",
    "    print(x)\n",
    "    [ 9  4 15  0 17 16 17  8  9  0]\n",
    "    \n",
    "    \n",
    "    Result:\n",
    "    [4 2 6 0 8 7 9 3 5 1]\n",
    "    "
   ]
  },
  {
   "cell_type": "code",
   "execution_count": 8,
   "metadata": {},
   "outputs": [
    {
     "name": "stdout",
     "output_type": "stream",
     "text": [
      "[ 9  4 15  0 17 16 17  8  9  0]\n",
      "[4 2 6 0 8 7 9 3 5 1]\n"
     ]
    }
   ],
   "source": [
    "np.random.seed(10)\n",
    "x = np.random.randint(20, size=10)\n",
    "arg_x1=(x.argsort()).argsort()\n",
    "print(x)\n",
    "print(arg_x1)"
   ]
  },
  {
   "cell_type": "markdown",
   "metadata": {},
   "source": [
    "--------------------"
   ]
  },
  {
   "cell_type": "markdown",
   "metadata": {},
   "source": [
    "**(10). For the given numeric array print the rank array with same shape of numeric array.**\n",
    "\n",
    "\n",
    "    Intake:\n",
    "    np.random.seed(10)\n",
    "    x = np.random.randint(20, size=[2,5])\n",
    "    print(a)\n",
    "    [[ 9  4 15  0 17]\n",
    "    [16 17  8  9  0]]\n",
    "    \n",
    "    Result:\n",
    "    [[4 2 6 0 8]\n",
    "    [7 9 3 5 1]]"
   ]
  },
  {
   "cell_type": "code",
   "execution_count": 9,
   "metadata": {},
   "outputs": [
    {
     "name": "stdout",
     "output_type": "stream",
     "text": [
      "[[ 9  4 15  0 17]\n",
      " [16 17  8  9  0]]\n",
      "[[4 2 6 0 8]\n",
      " [7 9 3 5 1]]\n"
     ]
    }
   ],
   "source": [
    "np.random.seed(10)\n",
    "x = np.random.randint(20, size=[2,5])\n",
    "print(x)\n",
    "x_arg=(((x.flatten()).argsort()).argsort()).reshape(2,5)\n",
    "print(x_arg)"
   ]
  },
  {
   "cell_type": "markdown",
   "metadata": {},
   "source": [
    "--------------------------------"
   ]
  },
  {
   "cell_type": "markdown",
   "metadata": {},
   "source": [
    "**(11). Subtract the 1d array y_1d from the 2d array x_2d, such that each item of y_1d subtracts from respective row of x_2d.**\n",
    "    \n",
    "    Intake:\n",
    "    x_2d = np.array([[3,3,3],[4,4,4],[5,5,5]])\n",
    "    y_1d = np.array([1,2,3])\n",
    "    \n",
    "    Result:\n",
    "     [[2 2 2]\n",
    "     [2 2 2]\n",
    "     [2 2 2]]"
   ]
  },
  {
   "cell_type": "code",
   "execution_count": 10,
   "metadata": {},
   "outputs": [
    {
     "name": "stdout",
     "output_type": "stream",
     "text": [
      "[[2 2 2]\n",
      " [2 2 2]\n",
      " [2 2 2]]\n"
     ]
    }
   ],
   "source": [
    "x_2d = np.array([[3,3,3],[4,4,4],[5,5,5]])\n",
    "y_1d = np.array([1,2,3])\n",
    "y_trans=y_1d.reshape(3,1)\n",
    "diff=np.subtract(x_2d,y_trans)\n",
    "print(diff)"
   ]
  },
  {
   "cell_type": "markdown",
   "metadata": {},
   "source": [
    "----------------"
   ]
  },
  {
   "cell_type": "markdown",
   "metadata": {},
   "source": [
    "# ----------------------------------HAPPY LEARNING--------------------------------------------------"
   ]
  },
  {
   "cell_type": "markdown",
   "metadata": {},
   "source": [
    "-------------------"
   ]
  }
 ],
 "metadata": {
  "kernelspec": {
   "display_name": "Python 3",
   "language": "python",
   "name": "python3"
  },
  "language_info": {
   "codemirror_mode": {
    "name": "ipython",
    "version": 3
   },
   "file_extension": ".py",
   "mimetype": "text/x-python",
   "name": "python",
   "nbconvert_exporter": "python",
   "pygments_lexer": "ipython3",
   "version": "3.8.3"
  }
 },
 "nbformat": 4,
 "nbformat_minor": 2
}
